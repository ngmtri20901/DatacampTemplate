{
 "cells": [
  {
   "cell_type": "markdown",
   "id": "062ea796-0728-4951-8e85-912a4d31e77c",
   "metadata": {},
   "source": [
    "# Download Data"
   ]
  },
  {
   "cell_type": "code",
   "execution_count": null,
   "id": "74ca87b6-ee88-4e63-ad4a-c826a424f658",
   "metadata": {},
   "outputs": [],
   "source": [
    "import pandas as pd\n",
    "!wget https://s3.amazonaws.com/nyc-tlc/trip+data/yellow_tripdata_2020-01.csv\n",
    "df = pd.read_csv('yellow_tripdata_2020-01.csv', parse_dates=['tpep_pickup_datetime', 'tpep_dropoff_datetime'])\n",
    "df.sample(frac = 0.01).to_csv('yellow_tripdata_2020-01_sampled.csv', index=False)\n",
    "!rm yellow_tripdata_2020-01.csv"
   ]
  }
 ],
 "metadata": {
  "kernelspec": {
   "display_name": "Python 3",
   "language": "python",
   "name": "python3"
  },
  "language_info": {
   "codemirror_mode": {
    "name": "ipython",
    "version": 3
   },
   "file_extension": ".py",
   "mimetype": "text/x-python",
   "name": "python",
   "nbconvert_exporter": "python",
   "pygments_lexer": "ipython3",
   "version": "3.8.5"
  }
 },
 "nbformat": 4,
 "nbformat_minor": 5
}
